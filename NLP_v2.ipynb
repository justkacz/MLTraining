{
 "cells": [
  {
   "cell_type": "code",
   "execution_count": 7,
   "id": "29e16118",
   "metadata": {},
   "outputs": [],
   "source": [
    "class Category:\n",
    "    BOOKS='BOOKS'\n",
    "    CLOTHING='CLOTHING'\n",
    "    "
   ]
  },
  {
   "cell_type": "code",
   "execution_count": 1,
   "id": "bbe3b866",
   "metadata": {},
   "outputs": [],
   "source": [
    "from sklearn.feature_extraction.text import CountVectorizer"
   ]
  },
  {
   "cell_type": "code",
   "execution_count": 8,
   "id": "ff3676bb",
   "metadata": {},
   "outputs": [
    {
     "name": "stdout",
     "output_type": "stream",
     "text": [
      "['book' 'fit' 'great' 'is' 'love' 'shoes' 'the' 'this']\n"
     ]
    }
   ],
   "source": [
    "train_x=['I love the book', 'This is a great book', 'the fit is great', 'I love the shoes']\n",
    "train_y=[Category.BOOKS, Category.BOOKS, Category.CLOTHING, Category.CLOTHING]\n",
    "\n",
    "vectorizer=CountVectorizer()\n",
    "vectors=vectorizer.fit_transform(train_x)\n",
    "\n",
    "print(vectorizer.get_feature_names_out())"
   ]
  },
  {
   "cell_type": "code",
   "execution_count": 9,
   "id": "1685e26b",
   "metadata": {},
   "outputs": [
    {
     "name": "stdout",
     "output_type": "stream",
     "text": [
      "[[1 0 0 0 1 0 1 0]\n",
      " [1 0 1 1 0 0 0 1]\n",
      " [0 1 1 1 0 0 1 0]\n",
      " [0 0 0 0 1 1 1 0]]\n"
     ]
    }
   ],
   "source": [
    "print(vectors.toarray())"
   ]
  },
  {
   "cell_type": "code",
   "execution_count": 13,
   "id": "e24b0bc1",
   "metadata": {},
   "outputs": [
    {
     "data": {
      "text/plain": [
       "SVC(kernel='linear')"
      ]
     },
     "execution_count": 13,
     "metadata": {},
     "output_type": "execute_result"
    }
   ],
   "source": [
    "from sklearn import svm\n",
    "\n",
    "model=svm.SVC(kernel='linear')\n",
    "model.fit(vectors, train_y)"
   ]
  },
  {
   "cell_type": "code",
   "execution_count": 14,
   "id": "1b71e991",
   "metadata": {},
   "outputs": [
    {
     "data": {
      "text/plain": [
       "array(['BOOKS'], dtype='<U8')"
      ]
     },
     "execution_count": 14,
     "metadata": {},
     "output_type": "execute_result"
    }
   ],
   "source": [
    "test_x=vectorizer.transform(['I like the book'])\n",
    "\n",
    "model.predict(test_x)"
   ]
  }
 ],
 "metadata": {
  "kernelspec": {
   "display_name": "Python 3",
   "language": "python",
   "name": "python3"
  },
  "language_info": {
   "codemirror_mode": {
    "name": "ipython",
    "version": 3
   },
   "file_extension": ".py",
   "mimetype": "text/x-python",
   "name": "python",
   "nbconvert_exporter": "python",
   "pygments_lexer": "ipython3",
   "version": "3.8.8"
  }
 },
 "nbformat": 4,
 "nbformat_minor": 5
}
