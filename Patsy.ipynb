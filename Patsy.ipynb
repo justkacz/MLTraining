{
 "cells": [
  {
   "cell_type": "code",
   "execution_count": 2,
   "id": "b78304b9",
   "metadata": {},
   "outputs": [
    {
     "data": {
      "text/plain": [
       "Country               0\n",
       "Country Code          0\n",
       "Region             2576\n",
       "Income Group       2576\n",
       "Year                  0\n",
       "Life Expectancy    1230\n",
       "dtype: int64"
      ]
     },
     "execution_count": 2,
     "metadata": {},
     "output_type": "execute_result"
    }
   ],
   "source": [
    "import pandas as pd\n",
    "\n",
    "df=pd.read_excel('https://github.com/justkacz/csvfiles/blob/main/Life%20Expectancy%20at%20Birth.xlsx?raw=true')\n",
    "df.isna().sum()"
   ]
  },
  {
   "cell_type": "code",
   "execution_count": 3,
   "id": "59ed86c3",
   "metadata": {},
   "outputs": [
    {
     "data": {
      "text/plain": [
       "Country               0\n",
       "Country Code          0\n",
       "Region             2576\n",
       "Income Group       2576\n",
       "Year                  0\n",
       "Life Expectancy       0\n",
       "dtype: int64"
      ]
     },
     "execution_count": 3,
     "metadata": {},
     "output_type": "execute_result"
    }
   ],
   "source": [
    "df[df.Region.isna() & df['Income Group'].isna()].isna().sum()"
   ]
  },
  {
   "cell_type": "code",
   "execution_count": 4,
   "id": "20c18ff4",
   "metadata": {},
   "outputs": [],
   "source": [
    "df.dropna(inplace=True)"
   ]
  },
  {
   "cell_type": "code",
   "execution_count": 5,
   "id": "7dd4228a",
   "metadata": {},
   "outputs": [
    {
     "data": {
      "text/plain": [
       "Index(['Country', 'Country Code', 'Region', 'Income Group', 'Year',\n",
       "       'Life Expectancy'],\n",
       "      dtype='object')"
      ]
     },
     "execution_count": 5,
     "metadata": {},
     "output_type": "execute_result"
    }
   ],
   "source": [
    "df.columns"
   ]
  },
  {
   "cell_type": "code",
   "execution_count": 7,
   "id": "e3a9c037",
   "metadata": {},
   "outputs": [
    {
     "data": {
      "text/html": [
       "<div>\n",
       "<style scoped>\n",
       "    .dataframe tbody tr th:only-of-type {\n",
       "        vertical-align: middle;\n",
       "    }\n",
       "\n",
       "    .dataframe tbody tr th {\n",
       "        vertical-align: top;\n",
       "    }\n",
       "\n",
       "    .dataframe thead th {\n",
       "        text-align: right;\n",
       "    }\n",
       "</style>\n",
       "<table border=\"1\" class=\"dataframe\">\n",
       "  <thead>\n",
       "    <tr style=\"text-align: right;\">\n",
       "      <th></th>\n",
       "      <th>country</th>\n",
       "      <th>country_code</th>\n",
       "      <th>region</th>\n",
       "      <th>income_group</th>\n",
       "      <th>year</th>\n",
       "      <th>life_expectancy</th>\n",
       "    </tr>\n",
       "  </thead>\n",
       "  <tbody>\n",
       "    <tr>\n",
       "      <th>0</th>\n",
       "      <td>Aruba</td>\n",
       "      <td>ABW</td>\n",
       "      <td>Latin America &amp; Caribbean</td>\n",
       "      <td>High income</td>\n",
       "      <td>1960</td>\n",
       "      <td>65.569366</td>\n",
       "    </tr>\n",
       "    <tr>\n",
       "      <th>1</th>\n",
       "      <td>Afghanistan</td>\n",
       "      <td>AFG</td>\n",
       "      <td>South Asia</td>\n",
       "      <td>Low income</td>\n",
       "      <td>1960</td>\n",
       "      <td>32.328512</td>\n",
       "    </tr>\n",
       "    <tr>\n",
       "      <th>2</th>\n",
       "      <td>Angola</td>\n",
       "      <td>AGO</td>\n",
       "      <td>Sub-Saharan Africa</td>\n",
       "      <td>Lower middle income</td>\n",
       "      <td>1960</td>\n",
       "      <td>32.984829</td>\n",
       "    </tr>\n",
       "    <tr>\n",
       "      <th>3</th>\n",
       "      <td>Albania</td>\n",
       "      <td>ALB</td>\n",
       "      <td>Europe &amp; Central Asia</td>\n",
       "      <td>Upper middle income</td>\n",
       "      <td>1960</td>\n",
       "      <td>62.254366</td>\n",
       "    </tr>\n",
       "    <tr>\n",
       "      <th>6</th>\n",
       "      <td>United Arab Emirates</td>\n",
       "      <td>ARE</td>\n",
       "      <td>Middle East &amp; North Africa</td>\n",
       "      <td>High income</td>\n",
       "      <td>1960</td>\n",
       "      <td>52.243220</td>\n",
       "    </tr>\n",
       "  </tbody>\n",
       "</table>\n",
       "</div>"
      ],
      "text/plain": [
       "                country country_code                      region  \\\n",
       "0                 Aruba          ABW   Latin America & Caribbean   \n",
       "1           Afghanistan          AFG                  South Asia   \n",
       "2                Angola          AGO          Sub-Saharan Africa   \n",
       "3               Albania          ALB       Europe & Central Asia   \n",
       "6  United Arab Emirates          ARE  Middle East & North Africa   \n",
       "\n",
       "          income_group  year  life_expectancy  \n",
       "0          High income  1960        65.569366  \n",
       "1           Low income  1960        32.328512  \n",
       "2  Lower middle income  1960        32.984829  \n",
       "3  Upper middle income  1960        62.254366  \n",
       "6          High income  1960        52.243220  "
      ]
     },
     "execution_count": 7,
     "metadata": {},
     "output_type": "execute_result"
    }
   ],
   "source": [
    "df.columns=df.columns.map(lambda x: '_'.join(x.lower().split(' ')))\n",
    "df.head()"
   ]
  },
  {
   "cell_type": "code",
   "execution_count": 8,
   "id": "ab733e3a",
   "metadata": {},
   "outputs": [
    {
     "data": {
      "text/html": [
       "<div>\n",
       "<style scoped>\n",
       "    .dataframe tbody tr th:only-of-type {\n",
       "        vertical-align: middle;\n",
       "    }\n",
       "\n",
       "    .dataframe tbody tr th {\n",
       "        vertical-align: top;\n",
       "    }\n",
       "\n",
       "    .dataframe thead th {\n",
       "        text-align: right;\n",
       "    }\n",
       "</style>\n",
       "<table border=\"1\" class=\"dataframe\">\n",
       "  <thead>\n",
       "    <tr style=\"text-align: right;\">\n",
       "      <th></th>\n",
       "      <th>country</th>\n",
       "      <th>country_code</th>\n",
       "      <th>region</th>\n",
       "      <th>income_group</th>\n",
       "      <th>year</th>\n",
       "      <th>life_expectancy</th>\n",
       "    </tr>\n",
       "  </thead>\n",
       "  <tbody>\n",
       "    <tr>\n",
       "      <th>33</th>\n",
       "      <td>Canada</td>\n",
       "      <td>CAN</td>\n",
       "      <td>North America</td>\n",
       "      <td>High income</td>\n",
       "      <td>1960</td>\n",
       "      <td>71.133171</td>\n",
       "    </tr>\n",
       "    <tr>\n",
       "      <th>78</th>\n",
       "      <td>Gabon</td>\n",
       "      <td>GAB</td>\n",
       "      <td>Sub-Saharan Africa</td>\n",
       "      <td>Upper middle income</td>\n",
       "      <td>1960</td>\n",
       "      <td>39.570122</td>\n",
       "    </tr>\n",
       "    <tr>\n",
       "      <th>109</th>\n",
       "      <td>Iran, Islamic Rep.</td>\n",
       "      <td>IRN</td>\n",
       "      <td>Middle East &amp; North Africa</td>\n",
       "      <td>Upper middle income</td>\n",
       "      <td>1960</td>\n",
       "      <td>44.945512</td>\n",
       "    </tr>\n",
       "    <tr>\n",
       "      <th>99</th>\n",
       "      <td>Hungary</td>\n",
       "      <td>HUN</td>\n",
       "      <td>Europe &amp; Central Asia</td>\n",
       "      <td>High income</td>\n",
       "      <td>1960</td>\n",
       "      <td>68.003171</td>\n",
       "    </tr>\n",
       "    <tr>\n",
       "      <th>520</th>\n",
       "      <td>Samoa</td>\n",
       "      <td>WSM</td>\n",
       "      <td>East Asia &amp; Pacific</td>\n",
       "      <td>Upper middle income</td>\n",
       "      <td>1961</td>\n",
       "      <td>50.469512</td>\n",
       "    </tr>\n",
       "  </tbody>\n",
       "</table>\n",
       "</div>"
      ],
      "text/plain": [
       "                country country_code                      region  \\\n",
       "33               Canada          CAN               North America   \n",
       "78                Gabon          GAB          Sub-Saharan Africa   \n",
       "109  Iran, Islamic Rep.          IRN  Middle East & North Africa   \n",
       "99              Hungary          HUN       Europe & Central Asia   \n",
       "520               Samoa          WSM         East Asia & Pacific   \n",
       "\n",
       "            income_group  year  life_expectancy  \n",
       "33           High income  1960        71.133171  \n",
       "78   Upper middle income  1960        39.570122  \n",
       "109  Upper middle income  1960        44.945512  \n",
       "99           High income  1960        68.003171  \n",
       "520  Upper middle income  1961        50.469512  "
      ]
     },
     "execution_count": 8,
     "metadata": {},
     "output_type": "execute_result"
    }
   ],
   "source": [
    "d=df.groupby('region').sample(n=20).sort_values(by='year')\n",
    "d.head()"
   ]
  },
  {
   "cell_type": "code",
   "execution_count": 13,
   "id": "c4e7d8bc",
   "metadata": {},
   "outputs": [
    {
     "data": {
      "image/png": "[encoded data removed]",
      "text/plain": [
       "<Figure size 576x396 with 1 Axes>"
      ]
     },
     "metadata": {},
     "output_type": "display_data"
    }
   ],
   "source": [
    "from sklearn.model_selection import train_test_split\n",
    "from patsy import dmatrices\n",
    "from sklearn.linear_model import LinearRegression\n",
    "from yellowbrick.regressor import prediction_error\n",
    "\n",
    "def train_test(x, Y):\n",
    "    x_train, x_test, Y_train, Y_test = train_test_split(x, Y, test_size=0.2, random_state=0)\n",
    "\n",
    "    Y_train=Y_train.ravel()  #converting to 1D array (squeeze() -> converts only one dimension up)\n",
    "    Y_test=Y_test.ravel()\n",
    "    \n",
    "    return x_train, x_test, Y_train, Y_test\n",
    "\n",
    "\n",
    "def matric_x(text, dane):\n",
    "    Y, x = dmatrices(text, data=dane)\n",
    "    x_train, x_test, Y_train, Y_test = train_test(x, Y)\n",
    "    model=LinearRegression()\n",
    "    vis=prediction_error(model, x_train, Y_train, x_test, Y_test)\n",
    "    vis\n",
    "\n",
    "matric_x('life_expectancy ~ region + income_group+year', d)\n"
   ]
  },
  {
   "cell_type": "code",
   "execution_count": null,
   "id": "669f401f",
   "metadata": {},
   "outputs": [],
   "source": []
  }
 ],
 "metadata": {
  "kernelspec": {
   "display_name": "Python 3 (ipykernel)",
   "language": "python",
   "name": "python3"
  },
  "language_info": {
   "codemirror_mode": {
    "name": "ipython",
    "version": 3
   },
   "file_extension": ".py",
   "mimetype": "text/x-python",
   "name": "python",
   "nbconvert_exporter": "python",
   "pygments_lexer": "ipython3",
   "version": "3.9.12"
  }
 },
 "nbformat": 4,
 "nbformat_minor": 5
}
