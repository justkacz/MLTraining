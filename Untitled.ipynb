{
 "cells": [
  {
   "cell_type": "code",
   "execution_count": null,
   "id": "bc111dd2",
   "metadata": {},
   "outputs": [
    {
     "name": "stdout",
     "output_type": "stream",
     "text": [
      "Ratio of Nitrogen in the soil: 30\n",
      "Rainfall in 1mm: 20\n",
      "\n",
      "The suggested crop for given climate condition:\n",
      "Do you want to continue? If yes, press \"Yes\": yes\n",
      "Ratio of Nitrogen in the soil: 4\n",
      "Rainfall in 1mm: 6\n",
      "\n",
      "The suggested crop for given climate condition:\n",
      "Do you want to continue? If yes, press \"Yes\": n\n",
      "Finish\n"
     ]
    }
   ],
   "source": [
    "# rep=True\n",
    "while True:\n",
    "    k=[float(input('Ratio of Nitrogen in the soil: ')), \n",
    "       float(input('Rainfall in 1mm: '))]\n",
    "#     pred=model.predict(np.array([k]))\n",
    "    print(f'\\nThe suggested crop for given climate condition:',sep='')\n",
    "    rep=input('Do you want to continue? If yes, press \"Yes\": ')\n",
    "    if rep.lower() !='yes':\n",
    "        break\n",
    "        print('Finish')"
   ]
  }
 ],
 "metadata": {
  "kernelspec": {
   "display_name": "Python 3",
   "language": "python",
   "name": "python3"
  },
  "language_info": {
   "codemirror_mode": {
    "name": "ipython",
    "version": 3
   },
   "file_extension": ".py",
   "mimetype": "text/x-python",
   "name": "python",
   "nbconvert_exporter": "python",
   "pygments_lexer": "ipython3",
   "version": "3.8.8"
  }
 },
 "nbformat": 4,
 "nbformat_minor": 5
}
